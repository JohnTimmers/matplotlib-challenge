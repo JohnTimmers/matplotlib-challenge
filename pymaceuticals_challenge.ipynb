{
 "cells": [
  {
   "cell_type": "code",
   "execution_count": 1,
   "metadata": {},
   "outputs": [
    {
     "data": {
      "text/html": [
       "<div>\n",
       "<style scoped>\n",
       "    .dataframe tbody tr th:only-of-type {\n",
       "        vertical-align: middle;\n",
       "    }\n",
       "\n",
       "    .dataframe tbody tr th {\n",
       "        vertical-align: top;\n",
       "    }\n",
       "\n",
       "    .dataframe thead th {\n",
       "        text-align: right;\n",
       "    }\n",
       "</style>\n",
       "<table border=\"1\" class=\"dataframe\">\n",
       "  <thead>\n",
       "    <tr style=\"text-align: right;\">\n",
       "      <th></th>\n",
       "      <th>Mouse ID</th>\n",
       "      <th>Timepoint</th>\n",
       "      <th>Tumor Volume (mm3)</th>\n",
       "      <th>Metastatic Sites</th>\n",
       "      <th>Drug Regimen</th>\n",
       "      <th>Sex</th>\n",
       "      <th>Age_months</th>\n",
       "      <th>Weight (g)</th>\n",
       "    </tr>\n",
       "  </thead>\n",
       "  <tbody>\n",
       "    <tr>\n",
       "      <th>0</th>\n",
       "      <td>b128</td>\n",
       "      <td>0</td>\n",
       "      <td>45.0</td>\n",
       "      <td>0</td>\n",
       "      <td>Capomulin</td>\n",
       "      <td>Female</td>\n",
       "      <td>9</td>\n",
       "      <td>22</td>\n",
       "    </tr>\n",
       "    <tr>\n",
       "      <th>1</th>\n",
       "      <td>f932</td>\n",
       "      <td>0</td>\n",
       "      <td>45.0</td>\n",
       "      <td>0</td>\n",
       "      <td>Ketapril</td>\n",
       "      <td>Male</td>\n",
       "      <td>15</td>\n",
       "      <td>29</td>\n",
       "    </tr>\n",
       "    <tr>\n",
       "      <th>2</th>\n",
       "      <td>g107</td>\n",
       "      <td>0</td>\n",
       "      <td>45.0</td>\n",
       "      <td>0</td>\n",
       "      <td>Ketapril</td>\n",
       "      <td>Female</td>\n",
       "      <td>2</td>\n",
       "      <td>29</td>\n",
       "    </tr>\n",
       "    <tr>\n",
       "      <th>3</th>\n",
       "      <td>a457</td>\n",
       "      <td>0</td>\n",
       "      <td>45.0</td>\n",
       "      <td>0</td>\n",
       "      <td>Ketapril</td>\n",
       "      <td>Female</td>\n",
       "      <td>11</td>\n",
       "      <td>30</td>\n",
       "    </tr>\n",
       "    <tr>\n",
       "      <th>4</th>\n",
       "      <td>c819</td>\n",
       "      <td>0</td>\n",
       "      <td>45.0</td>\n",
       "      <td>0</td>\n",
       "      <td>Ketapril</td>\n",
       "      <td>Male</td>\n",
       "      <td>21</td>\n",
       "      <td>25</td>\n",
       "    </tr>\n",
       "  </tbody>\n",
       "</table>\n",
       "</div>"
      ],
      "text/plain": [
       "  Mouse ID  Timepoint  Tumor Volume (mm3)  Metastatic Sites Drug Regimen  \\\n",
       "0     b128          0                45.0                 0    Capomulin   \n",
       "1     f932          0                45.0                 0     Ketapril   \n",
       "2     g107          0                45.0                 0     Ketapril   \n",
       "3     a457          0                45.0                 0     Ketapril   \n",
       "4     c819          0                45.0                 0     Ketapril   \n",
       "\n",
       "      Sex  Age_months  Weight (g)  \n",
       "0  Female           9          22  \n",
       "1    Male          15          29  \n",
       "2  Female           2          29  \n",
       "3  Female          11          30  \n",
       "4    Male          21          25  "
      ]
     },
     "execution_count": 1,
     "metadata": {},
     "output_type": "execute_result"
    }
   ],
   "source": [
    "#Dependencies and Setup\n",
    "%matplotlib inline\n",
    "import matplotlib.pyplot as plt\n",
    "import pandas as pd\n",
    "import numpy as np\n",
    "\n",
    "#Study data files \n",
    "file_path = \"~/Desktop/gt-atl-data-pt-03-2021-u-c/05-Matplotlib/Homework/Instructions/Pymaceuticals/\"\n",
    "mouse_metadata_path = file_path + \"data/Mouse_metadata.csv\"\n",
    "study_results_path = file_path + \"data/Study_results.csv\"\n",
    "\n",
    "#Read the Mouse and Drug Data and the Clinical Trial Data\n",
    "mouse_metadata = pd.read_csv(mouse_metadata_path)\n",
    "study_results = pd.read_csv(study_results_path)\n",
    "\n",
    "#Combine the data into a single dataset\n",
    "mouse_data_full = pd.merge(study_results, mouse_metadata, how=\"left\", on=[\"Mouse ID\", \"Mouse ID\"])\n",
    "\n",
    "#Display the data table for preview\n",
    "mouse_data_full.head()"
   ]
  },
  {
   "cell_type": "code",
   "execution_count": 2,
   "metadata": {},
   "outputs": [
    {
     "data": {
      "text/plain": [
       "1893"
      ]
     },
     "execution_count": 2,
     "metadata": {},
     "output_type": "execute_result"
    }
   ],
   "source": [
    "#Checking the number of mice\n",
    "num_mice = len(mouse_data_full)\n",
    "num_mice\n"
   ]
  },
  {
   "cell_type": "code",
   "execution_count": 3,
   "metadata": {},
   "outputs": [
    {
     "data": {
      "text/html": [
       "<div>\n",
       "<style scoped>\n",
       "    .dataframe tbody tr th:only-of-type {\n",
       "        vertical-align: middle;\n",
       "    }\n",
       "\n",
       "    .dataframe tbody tr th {\n",
       "        vertical-align: top;\n",
       "    }\n",
       "\n",
       "    .dataframe thead th {\n",
       "        text-align: right;\n",
       "    }\n",
       "</style>\n",
       "<table border=\"1\" class=\"dataframe\">\n",
       "  <thead>\n",
       "    <tr style=\"text-align: right;\">\n",
       "      <th></th>\n",
       "      <th>Mouse ID</th>\n",
       "      <th>Timepoint</th>\n",
       "      <th>Tumor Volume (mm3)</th>\n",
       "      <th>Metastatic Sites</th>\n",
       "      <th>Drug Regimen</th>\n",
       "      <th>Sex</th>\n",
       "      <th>Age_months</th>\n",
       "      <th>Weight (g)</th>\n",
       "    </tr>\n",
       "  </thead>\n",
       "  <tbody>\n",
       "    <tr>\n",
       "      <th>107</th>\n",
       "      <td>g989</td>\n",
       "      <td>0</td>\n",
       "      <td>45.0</td>\n",
       "      <td>0</td>\n",
       "      <td>Propriva</td>\n",
       "      <td>Female</td>\n",
       "      <td>21</td>\n",
       "      <td>26</td>\n",
       "    </tr>\n",
       "    <tr>\n",
       "      <th>137</th>\n",
       "      <td>g989</td>\n",
       "      <td>0</td>\n",
       "      <td>45.0</td>\n",
       "      <td>0</td>\n",
       "      <td>Propriva</td>\n",
       "      <td>Female</td>\n",
       "      <td>21</td>\n",
       "      <td>26</td>\n",
       "    </tr>\n",
       "  </tbody>\n",
       "</table>\n",
       "</div>"
      ],
      "text/plain": [
       "    Mouse ID  Timepoint  Tumor Volume (mm3)  Metastatic Sites Drug Regimen  \\\n",
       "107     g989          0                45.0                 0     Propriva   \n",
       "137     g989          0                45.0                 0     Propriva   \n",
       "\n",
       "        Sex  Age_months  Weight (g)  \n",
       "107  Female          21          26  \n",
       "137  Female          21          26  "
      ]
     },
     "execution_count": 3,
     "metadata": {},
     "output_type": "execute_result"
    }
   ],
   "source": [
    "#Getting the duplicate mice by ID number that shows up for Mouse ID and Timepoint.\n",
    "duplicate_mice = []\n",
    "mouse_id_group = mouse_data_full.sort_values([\"Mouse ID\", \"Timepoint\"])\n",
    "mouse_id_group.head(40)\n",
    "\n",
    "dupe_mice = mouse_id_group[mouse_id_group.duplicated(subset=None, keep=False)]\n",
    "dupe_mice.head()\n",
    "\n"
   ]
  },
  {
   "cell_type": "code",
   "execution_count": 4,
   "metadata": {},
   "outputs": [],
   "source": [
    "#Create a clean DataFrame by dropping the duplicate mouse by its ID.\n",
    "for mouse in dupe_mice[\"Mouse ID\"]:\n",
    "    indexNames = mouse_data_full[mouse_data_full[\"Mouse ID\"] == mouse].index\n",
    "    mouse_data_full.drop(indexNames, inplace=True)"
   ]
  },
  {
   "cell_type": "code",
   "execution_count": 5,
   "metadata": {},
   "outputs": [
    {
     "name": "stdout",
     "output_type": "stream",
     "text": [
      "1880\n"
     ]
    }
   ],
   "source": [
    "#Checking the number of mice in the clean DataFrame.\n",
    "print(len(mouse_data_full))"
   ]
  },
  {
   "cell_type": "code",
   "execution_count": 6,
   "metadata": {},
   "outputs": [
    {
     "data": {
      "text/html": [
       "<div>\n",
       "<style scoped>\n",
       "    .dataframe tbody tr th:only-of-type {\n",
       "        vertical-align: middle;\n",
       "    }\n",
       "\n",
       "    .dataframe tbody tr th {\n",
       "        vertical-align: top;\n",
       "    }\n",
       "\n",
       "    .dataframe thead th {\n",
       "        text-align: right;\n",
       "    }\n",
       "</style>\n",
       "<table border=\"1\" class=\"dataframe\">\n",
       "  <thead>\n",
       "    <tr style=\"text-align: right;\">\n",
       "      <th></th>\n",
       "      <th>Drug Regimen</th>\n",
       "      <th>Mean</th>\n",
       "      <th>Median</th>\n",
       "      <th>Variance</th>\n",
       "      <th>Standard Dev</th>\n",
       "      <th>SEM</th>\n",
       "    </tr>\n",
       "  </thead>\n",
       "  <tbody>\n",
       "    <tr>\n",
       "      <th>0</th>\n",
       "      <td>Capomulin</td>\n",
       "      <td>40.675741</td>\n",
       "      <td>41.557809</td>\n",
       "      <td>24.947764</td>\n",
       "      <td>4.994774</td>\n",
       "      <td>0.329346</td>\n",
       "    </tr>\n",
       "    <tr>\n",
       "      <th>1</th>\n",
       "      <td>Ceftamin</td>\n",
       "      <td>52.591172</td>\n",
       "      <td>51.776157</td>\n",
       "      <td>39.290177</td>\n",
       "      <td>6.268188</td>\n",
       "      <td>0.469821</td>\n",
       "    </tr>\n",
       "    <tr>\n",
       "      <th>2</th>\n",
       "      <td>Infubinol</td>\n",
       "      <td>52.884795</td>\n",
       "      <td>51.820584</td>\n",
       "      <td>43.128684</td>\n",
       "      <td>6.567243</td>\n",
       "      <td>0.492236</td>\n",
       "    </tr>\n",
       "    <tr>\n",
       "      <th>3</th>\n",
       "      <td>Ketapril</td>\n",
       "      <td>55.235638</td>\n",
       "      <td>53.698743</td>\n",
       "      <td>68.553577</td>\n",
       "      <td>8.279709</td>\n",
       "      <td>0.603860</td>\n",
       "    </tr>\n",
       "    <tr>\n",
       "      <th>4</th>\n",
       "      <td>Naftisol</td>\n",
       "      <td>54.331565</td>\n",
       "      <td>52.509285</td>\n",
       "      <td>66.173479</td>\n",
       "      <td>8.134708</td>\n",
       "      <td>0.596466</td>\n",
       "    </tr>\n",
       "    <tr>\n",
       "      <th>5</th>\n",
       "      <td>Placebo</td>\n",
       "      <td>54.033581</td>\n",
       "      <td>52.288934</td>\n",
       "      <td>61.168083</td>\n",
       "      <td>7.821003</td>\n",
       "      <td>0.581331</td>\n",
       "    </tr>\n",
       "    <tr>\n",
       "      <th>6</th>\n",
       "      <td>Propriva</td>\n",
       "      <td>52.320930</td>\n",
       "      <td>50.446266</td>\n",
       "      <td>43.852013</td>\n",
       "      <td>6.622085</td>\n",
       "      <td>0.544332</td>\n",
       "    </tr>\n",
       "    <tr>\n",
       "      <th>7</th>\n",
       "      <td>Ramicane</td>\n",
       "      <td>40.216745</td>\n",
       "      <td>40.673236</td>\n",
       "      <td>23.486704</td>\n",
       "      <td>4.846308</td>\n",
       "      <td>0.320955</td>\n",
       "    </tr>\n",
       "    <tr>\n",
       "      <th>8</th>\n",
       "      <td>Stelasyn</td>\n",
       "      <td>54.233149</td>\n",
       "      <td>52.431737</td>\n",
       "      <td>59.450562</td>\n",
       "      <td>7.710419</td>\n",
       "      <td>0.573111</td>\n",
       "    </tr>\n",
       "    <tr>\n",
       "      <th>9</th>\n",
       "      <td>Zoniferol</td>\n",
       "      <td>53.236507</td>\n",
       "      <td>51.818479</td>\n",
       "      <td>48.533355</td>\n",
       "      <td>6.966589</td>\n",
       "      <td>0.516398</td>\n",
       "    </tr>\n",
       "  </tbody>\n",
       "</table>\n",
       "</div>"
      ],
      "text/plain": [
       "  Drug Regimen       Mean     Median   Variance  Standard Dev       SEM\n",
       "0    Capomulin  40.675741  41.557809  24.947764      4.994774  0.329346\n",
       "1     Ceftamin  52.591172  51.776157  39.290177      6.268188  0.469821\n",
       "2    Infubinol  52.884795  51.820584  43.128684      6.567243  0.492236\n",
       "3     Ketapril  55.235638  53.698743  68.553577      8.279709  0.603860\n",
       "4     Naftisol  54.331565  52.509285  66.173479      8.134708  0.596466\n",
       "5      Placebo  54.033581  52.288934  61.168083      7.821003  0.581331\n",
       "6     Propriva  52.320930  50.446266  43.852013      6.622085  0.544332\n",
       "7     Ramicane  40.216745  40.673236  23.486704      4.846308  0.320955\n",
       "8     Stelasyn  54.233149  52.431737  59.450562      7.710419  0.573111\n",
       "9    Zoniferol  53.236507  51.818479  48.533355      6.966589  0.516398"
      ]
     },
     "execution_count": 6,
     "metadata": {},
     "output_type": "execute_result"
    }
   ],
   "source": [
    "drug_df = mouse_data_full.groupby(\"Drug Regimen\")\n",
    "drug_names_df = drug_df.first()\n",
    "#print(drug_names_df)\n",
    "\n",
    "drug_df_Capomulin = drug_df.get_group(\"Capomulin\")[\"Tumor Volume (mm3)\"]\n",
    "capomulin_stats = [\"Capomulin\", drug_df_Capomulin.mean(), drug_df_Capomulin.median(), drug_df_Capomulin.var(), drug_df_Capomulin.std(), drug_df_Capomulin.sem()]\n",
    "\n",
    "drug_df_Ceftamin = drug_df.get_group(\"Ceftamin\")[\"Tumor Volume (mm3)\"]\n",
    "ceftamin_stats = [\"Ceftamin\", drug_df_Ceftamin.mean(), drug_df_Ceftamin.median(), drug_df_Ceftamin.var(), drug_df_Ceftamin.std(), drug_df_Ceftamin.sem()]\n",
    "\n",
    "drug_df_Infubinol = drug_df.get_group(\"Infubinol\")[\"Tumor Volume (mm3)\"]\n",
    "infubinol_stats = [\"Infubinol\", drug_df_Infubinol.mean(), drug_df_Infubinol.median(), drug_df_Infubinol.var(), drug_df_Infubinol.std(), drug_df_Infubinol.sem()]\n",
    "\n",
    "drug_df_Ketapril = drug_df.get_group(\"Ketapril\")[\"Tumor Volume (mm3)\"]\n",
    "ketapril_stats = [\"Ketapril\", drug_df_Ketapril.mean(), drug_df_Ketapril.median(), drug_df_Ketapril.var(), drug_df_Ketapril.std(), drug_df_Ketapril.sem()]\n",
    "\n",
    "drug_df_Naftisol = drug_df.get_group(\"Naftisol\")[\"Tumor Volume (mm3)\"]\n",
    "naftisol_stats = [\"Naftisol\", drug_df_Naftisol.mean(), drug_df_Naftisol.median(), drug_df_Naftisol.var(), drug_df_Naftisol.std(), drug_df_Naftisol.sem()]\n",
    "\n",
    "drug_df_Placebo = drug_df.get_group(\"Placebo\")[\"Tumor Volume (mm3)\"]\n",
    "placebo_stats = [\"Placebo\", drug_df_Placebo.mean(), drug_df_Placebo.median(), drug_df_Placebo.var(), drug_df_Placebo.std(), drug_df_Placebo.sem()]\n",
    "\n",
    "drug_df_Propriva = drug_df.get_group(\"Propriva\")[\"Tumor Volume (mm3)\"]\n",
    "propriva_stats = [\"Propriva\", drug_df_Propriva.mean(), drug_df_Propriva.median(), drug_df_Propriva.var(), drug_df_Propriva.std(), drug_df_Propriva.sem()]\n",
    "\n",
    "drug_df_Ramicane = drug_df.get_group(\"Ramicane\")[\"Tumor Volume (mm3)\"]\n",
    "ramicane_stats = [\"Ramicane\", drug_df_Ramicane.mean(), drug_df_Ramicane.median(), drug_df_Ramicane.var(), drug_df_Ramicane.std(), drug_df_Ramicane.sem()]\n",
    "\n",
    "drug_df_Stelasyn = drug_df.get_group(\"Stelasyn\")[\"Tumor Volume (mm3)\"]\n",
    "stelasyn_stats = [\"Stelasyn\", drug_df_Stelasyn.mean(), drug_df_Stelasyn.median(), drug_df_Stelasyn.var(), drug_df_Stelasyn.std(), drug_df_Stelasyn.sem()]\n",
    "\n",
    "drug_df_Zoniferol = drug_df.get_group(\"Zoniferol\")[\"Tumor Volume (mm3)\"]\n",
    "zoniferol_stats = [\"Zoniferol\", drug_df_Zoniferol.mean(), drug_df_Zoniferol.median(), drug_df_Zoniferol.var(), drug_df_Zoniferol.std(), drug_df_Zoniferol.sem()]\n",
    "\n",
    "\n",
    "stats_summary = pd.DataFrame([capomulin_stats, ceftamin_stats, infubinol_stats, ketapril_stats, naftisol_stats, placebo_stats, propriva_stats, ramicane_stats, stelasyn_stats, zoniferol_stats],\n",
    "                            columns = [\"Drug Regimen\", \"Mean\", \"Median\", \"Variance\", \"Standard Dev\", \"SEM\"])\n",
    "stats_summary"
   ]
  },
  {
   "cell_type": "code",
   "execution_count": 13,
   "metadata": {},
   "outputs": [
    {
     "data": {
      "text/plain": [
       "<matplotlib.axes._subplots.AxesSubplot at 0x21451285a58>"
      ]
     },
     "execution_count": 13,
     "metadata": {},
     "output_type": "execute_result"
    },
    {
     "data": {
      "image/png": "[encoded data removed]",
      "text/plain": [
       "<Figure size 432x288 with 1 Axes>"
      ]
     },
     "metadata": {
      "needs_background": "light"
     },
     "output_type": "display_data"
    }
   ],
   "source": [
    "drug_count = drug_df[\"Mouse ID\"].count()\n",
    "drug_count.plot.bar()"
   ]
  },
  {
   "cell_type": "code",
   "execution_count": 14,
   "metadata": {},
   "outputs": [
    {
     "data": {
      "text/plain": [
       "<BarContainer object of 10 artists>"
      ]
     },
     "execution_count": 14,
     "metadata": {},
     "output_type": "execute_result"
    },
    {
     "data": {
      "image/png": "[encoded data removed]",
      "text/plain": [
       "<Figure size 432x288 with 1 Axes>"
      ]
     },
     "metadata": {
      "needs_background": "light"
     },
     "output_type": "display_data"
    }
   ],
   "source": [
    "drug_names = drug_count.keys()\n",
    "\n",
    "plt.xticks(rotation = \"vertical\")\n",
    "plt.bar(drug_names, drug_count, width = .5)"
   ]
  },
  {
   "cell_type": "code",
   "execution_count": 16,
   "metadata": {},
   "outputs": [
    {
     "data": {
      "text/plain": [
       "array([<matplotlib.axes._subplots.AxesSubplot object at 0x0000021452350358>],\n",
       "      dtype=object)"
      ]
     },
     "execution_count": 16,
     "metadata": {},
     "output_type": "execute_result"
    },
    {
     "data": {
      "image/png": "[encoded data removed]",
      "text/plain": [
       "<Figure size 432x288 with 1 Axes>"
      ]
     },
     "metadata": {},
     "output_type": "display_data"
    }
   ],
   "source": [
    "sex_count = mouse_data_full.groupby(\"Sex\").agg({\"Sex\":\"count\"})\n",
    "sex_count\n",
    "\n",
    "sex_count.plot.pie(subplots=True)"
   ]
  },
  {
   "cell_type": "code",
   "execution_count": 30,
   "metadata": {},
   "outputs": [
    {
     "name": "stderr",
     "output_type": "stream",
     "text": [
      "C:\\Users\\JohnJohn\\anaconda3\\envs\\PythonData\\lib\\site-packages\\ipykernel_launcher.py:2: MatplotlibDeprecationWarning: Non-1D inputs to pie() are currently squeeze()d, but this behavior is deprecated since 3.1 and will be removed in 3.3; pass a 1D array instead.\n",
      "  \n"
     ]
    },
    {
     "data": {
      "text/plain": [
       "<matplotlib.legend.Legend at 0x21452601da0>"
      ]
     },
     "execution_count": 30,
     "metadata": {},
     "output_type": "execute_result"
    },
    {
     "data": {
      "image/png": "[encoded data removed]",
      "text/plain": [
       "<Figure size 432x288 with 1 Axes>"
      ]
     },
     "metadata": {},
     "output_type": "display_data"
    }
   ],
   "source": [
    "labels = sex_count.index\n",
    "plt.pie(sex_count, labels = labels)\n",
    "plt.title(\"Sex\")\n",
    "plt.legend(labels, loc=\"best\")"
   ]
  },
  {
   "cell_type": "code",
   "execution_count": 44,
   "metadata": {},
   "outputs": [
    {
     "data": {
      "text/html": [
       "<div>\n",
       "<style scoped>\n",
       "    .dataframe tbody tr th:only-of-type {\n",
       "        vertical-align: middle;\n",
       "    }\n",
       "\n",
       "    .dataframe tbody tr th {\n",
       "        vertical-align: top;\n",
       "    }\n",
       "\n",
       "    .dataframe thead th {\n",
       "        text-align: right;\n",
       "    }\n",
       "</style>\n",
       "<table border=\"1\" class=\"dataframe\">\n",
       "  <thead>\n",
       "    <tr style=\"text-align: right;\">\n",
       "      <th></th>\n",
       "      <th>Timepoint</th>\n",
       "      <th>Tumor Volume (mm3)</th>\n",
       "    </tr>\n",
       "    <tr>\n",
       "      <th>Drug Regimen</th>\n",
       "      <th></th>\n",
       "      <th></th>\n",
       "    </tr>\n",
       "  </thead>\n",
       "  <tbody>\n",
       "    <tr>\n",
       "      <th>Capomulin</th>\n",
       "      <td>45</td>\n",
       "      <td>31.023923</td>\n",
       "    </tr>\n",
       "    <tr>\n",
       "      <th>Ceftamin</th>\n",
       "      <td>45</td>\n",
       "      <td>61.433892</td>\n",
       "    </tr>\n",
       "    <tr>\n",
       "      <th>Infubinol</th>\n",
       "      <td>45</td>\n",
       "      <td>60.918767</td>\n",
       "    </tr>\n",
       "    <tr>\n",
       "      <th>Ramicane</th>\n",
       "      <td>45</td>\n",
       "      <td>33.562402</td>\n",
       "    </tr>\n",
       "  </tbody>\n",
       "</table>\n",
       "</div>"
      ],
      "text/plain": [
       "              Timepoint  Tumor Volume (mm3)\n",
       "Drug Regimen                               \n",
       "Capomulin            45           31.023923\n",
       "Ceftamin             45           61.433892\n",
       "Infubinol            45           60.918767\n",
       "Ramicane             45           33.562402"
      ]
     },
     "execution_count": 44,
     "metadata": {},
     "output_type": "execute_result"
    }
   ],
   "source": [
    "# find tumor volume at final timepoint for all drug regimens\n",
    "drug_names_final = drug_df.last()\n",
    "drug_names_final\n",
    "\n",
    "# keep final tumor volumes for requested drug regimens, drop all other data\n",
    "top_4_final = drug_names_final.drop(index=['Ketapril', 'Naftisol', 'Placebo', 'Propriva', 'Stelasyn', 'Zoniferol'], columns=['Mouse ID', 'Metastatic Sites', 'Sex', 'Age_months', 'Weight (g)'])\n",
    "top_4_final"
   ]
  },
  {
   "cell_type": "code",
   "execution_count": 62,
   "metadata": {},
   "outputs": [],
   "source": [
    "# calculate quartiles and IQR of each of the 4 request drug regimens\n",
    "\n",
    "Capomulin_quartiles = drug_df_Capomulin.quantile([0.25,0.5,0.75])\n",
    "Cap_lowerq = Capomulin_quartiles[0.25]\n",
    "Cap_upperq = Capomulin_quartiles[0.75]\n",
    "Capomulin_iqr = Cap_upperq - Cap_lowerq\n",
    "\n",
    "Ceftamin_quartiles = drug_df_Ceftamin.quantile([0.25,0.5,0.75])\n",
    "Cef_lowerq = Ceftamin_quartiles[0.25]\n",
    "Cef_upperq = Ceftamin_quartiles[0.75]\n",
    "Ceftamin_iqr = Cef_upperq - Cefp_lowerq\n",
    "\n",
    "Infubinol_quartiles = drug_df_Infubinol.quantile([0.25,0.5,0.75])\n",
    "Inf_lowerq = Infubinol_quartiles[0.25]\n",
    "Inf_upperq = Infubinol_quartiles[0.75]\n",
    "Infubinol_iqr = Inf_upperq - Inf_lowerq\n",
    "\n",
    "Ramicane_quartiles = drug_df_Ramicane.quantile([0.25,0.5,0.75])\n",
    "Ram_lowerq = Ramicane_quartiles[0.25]\n",
    "Ram_upperq = Ramicane_quartiles[0.75]\n",
    "Ramicane_iqr = Ram_upperq - Ram_lowerq\n"
   ]
  },
  {
   "cell_type": "code",
   "execution_count": null,
   "metadata": {},
   "outputs": [],
   "source": []
  }
 ],
 "metadata": {
  "kernelspec": {
   "display_name": "Python [conda env:PythonData] *",
   "language": "python",
   "name": "conda-env-PythonData-py"
  },
  "language_info": {
   "codemirror_mode": {
    "name": "ipython",
    "version": 3
   },
   "file_extension": ".py",
   "mimetype": "text/x-python",
   "name": "python",
   "nbconvert_exporter": "python",
   "pygments_lexer": "ipython3",
   "version": "3.6.10"
  }
 },
 "nbformat": 4,
 "nbformat_minor": 4
}
