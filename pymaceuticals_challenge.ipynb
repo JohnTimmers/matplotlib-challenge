{
 "cells": [
  {
   "cell_type": "code",
   "execution_count": 1,
   "source": [
    "#Dependencies and Setup\r\n",
    "%matplotlib inline\r\n",
    "import matplotlib.pyplot as plt\r\n",
    "import pandas as pd\r\n",
    "import numpy as np\r\n",
    "\r\n",
    "#Study data files \r\n",
    "file_path = \"~/Desktop/gt-atl-data-pt-03-2021-u-c/05-Matplotlib/Homework/Instructions/Pymaceuticals/\"\r\n",
    "mouse_metadata_path = file_path + \"data/Mouse_metadata.csv\"\r\n",
    "study_results_path = file_path + \"data/Study_results.csv\"\r\n",
    "\r\n",
    "#Read the Mouse and Drug Data and the Clinical Trial Data\r\n",
    "mouse_metadata = pd.read_csv(mouse_metadata_path)\r\n",
    "study_results = pd.read_csv(study_results_path)\r\n",
    "\r\n",
    "#Combine the data into a single dataset\r\n",
    "mouse_data_full = pd.merge(study_results, mouse_metadata, how=\"left\", on=[\"Mouse ID\", \"Mouse ID\"])\r\n",
    "\r\n",
    "#Display the data table for preview\r\n",
    "mouse_data_full.head()"
   ],
   "outputs": [
    {
     "output_type": "execute_result",
     "data": {
      "text/plain": [
       "  Mouse ID  Timepoint  Tumor Volume (mm3)  Metastatic Sites Drug Regimen  \\\n",
       "0     b128          0                45.0                 0    Capomulin   \n",
       "1     f932          0                45.0                 0     Ketapril   \n",
       "2     g107          0                45.0                 0     Ketapril   \n",
       "3     a457          0                45.0                 0     Ketapril   \n",
       "4     c819          0                45.0                 0     Ketapril   \n",
       "\n",
       "      Sex  Age_months  Weight (g)  \n",
       "0  Female           9          22  \n",
       "1    Male          15          29  \n",
       "2  Female           2          29  \n",
       "3  Female          11          30  \n",
       "4    Male          21          25  "
      ],
      "text/html": [
       "<div>\n",
       "<style scoped>\n",
       "    .dataframe tbody tr th:only-of-type {\n",
       "        vertical-align: middle;\n",
       "    }\n",
       "\n",
       "    .dataframe tbody tr th {\n",
       "        vertical-align: top;\n",
       "    }\n",
       "\n",
       "    .dataframe thead th {\n",
       "        text-align: right;\n",
       "    }\n",
       "</style>\n",
       "<table border=\"1\" class=\"dataframe\">\n",
       "  <thead>\n",
       "    <tr style=\"text-align: right;\">\n",
       "      <th></th>\n",
       "      <th>Mouse ID</th>\n",
       "      <th>Timepoint</th>\n",
       "      <th>Tumor Volume (mm3)</th>\n",
       "      <th>Metastatic Sites</th>\n",
       "      <th>Drug Regimen</th>\n",
       "      <th>Sex</th>\n",
       "      <th>Age_months</th>\n",
       "      <th>Weight (g)</th>\n",
       "    </tr>\n",
       "  </thead>\n",
       "  <tbody>\n",
       "    <tr>\n",
       "      <th>0</th>\n",
       "      <td>b128</td>\n",
       "      <td>0</td>\n",
       "      <td>45.0</td>\n",
       "      <td>0</td>\n",
       "      <td>Capomulin</td>\n",
       "      <td>Female</td>\n",
       "      <td>9</td>\n",
       "      <td>22</td>\n",
       "    </tr>\n",
       "    <tr>\n",
       "      <th>1</th>\n",
       "      <td>f932</td>\n",
       "      <td>0</td>\n",
       "      <td>45.0</td>\n",
       "      <td>0</td>\n",
       "      <td>Ketapril</td>\n",
       "      <td>Male</td>\n",
       "      <td>15</td>\n",
       "      <td>29</td>\n",
       "    </tr>\n",
       "    <tr>\n",
       "      <th>2</th>\n",
       "      <td>g107</td>\n",
       "      <td>0</td>\n",
       "      <td>45.0</td>\n",
       "      <td>0</td>\n",
       "      <td>Ketapril</td>\n",
       "      <td>Female</td>\n",
       "      <td>2</td>\n",
       "      <td>29</td>\n",
       "    </tr>\n",
       "    <tr>\n",
       "      <th>3</th>\n",
       "      <td>a457</td>\n",
       "      <td>0</td>\n",
       "      <td>45.0</td>\n",
       "      <td>0</td>\n",
       "      <td>Ketapril</td>\n",
       "      <td>Female</td>\n",
       "      <td>11</td>\n",
       "      <td>30</td>\n",
       "    </tr>\n",
       "    <tr>\n",
       "      <th>4</th>\n",
       "      <td>c819</td>\n",
       "      <td>0</td>\n",
       "      <td>45.0</td>\n",
       "      <td>0</td>\n",
       "      <td>Ketapril</td>\n",
       "      <td>Male</td>\n",
       "      <td>21</td>\n",
       "      <td>25</td>\n",
       "    </tr>\n",
       "  </tbody>\n",
       "</table>\n",
       "</div>"
      ]
     },
     "metadata": {},
     "execution_count": 1
    }
   ],
   "metadata": {}
  },
  {
   "cell_type": "code",
   "execution_count": 2,
   "source": [
    "#Checking the number of mice\r\n",
    "num_mice = len(mouse_data_full)\r\n",
    "num_mice\r\n"
   ],
   "outputs": [
    {
     "output_type": "execute_result",
     "data": {
      "text/plain": [
       "1893"
      ]
     },
     "metadata": {},
     "execution_count": 2
    }
   ],
   "metadata": {}
  },
  {
   "cell_type": "code",
   "execution_count": 3,
   "source": [
    "#Getting the duplicate mice by ID number that shows up for Mouse ID and Timepoint.\r\n",
    "duplicate_mice = []\r\n",
    "mouse_id_group = mouse_data_full.sort_values([\"Mouse ID\", \"Timepoint\"])\r\n",
    "mouse_id_group.head(40)\r\n",
    "\r\n",
    "dupe_mice = mouse_id_group[mouse_id_group.duplicated(subset=None, keep=False)]\r\n",
    "dupe_mice.head()\r\n",
    "\r\n"
   ],
   "outputs": [
    {
     "output_type": "execute_result",
     "data": {
      "text/plain": [
       "    Mouse ID  Timepoint  Tumor Volume (mm3)  Metastatic Sites Drug Regimen  \\\n",
       "107     g989          0                45.0                 0     Propriva   \n",
       "137     g989          0                45.0                 0     Propriva   \n",
       "\n",
       "        Sex  Age_months  Weight (g)  \n",
       "107  Female          21          26  \n",
       "137  Female          21          26  "
      ],
      "text/html": [
       "<div>\n",
       "<style scoped>\n",
       "    .dataframe tbody tr th:only-of-type {\n",
       "        vertical-align: middle;\n",
       "    }\n",
       "\n",
       "    .dataframe tbody tr th {\n",
       "        vertical-align: top;\n",
       "    }\n",
       "\n",
       "    .dataframe thead th {\n",
       "        text-align: right;\n",
       "    }\n",
       "</style>\n",
       "<table border=\"1\" class=\"dataframe\">\n",
       "  <thead>\n",
       "    <tr style=\"text-align: right;\">\n",
       "      <th></th>\n",
       "      <th>Mouse ID</th>\n",
       "      <th>Timepoint</th>\n",
       "      <th>Tumor Volume (mm3)</th>\n",
       "      <th>Metastatic Sites</th>\n",
       "      <th>Drug Regimen</th>\n",
       "      <th>Sex</th>\n",
       "      <th>Age_months</th>\n",
       "      <th>Weight (g)</th>\n",
       "    </tr>\n",
       "  </thead>\n",
       "  <tbody>\n",
       "    <tr>\n",
       "      <th>107</th>\n",
       "      <td>g989</td>\n",
       "      <td>0</td>\n",
       "      <td>45.0</td>\n",
       "      <td>0</td>\n",
       "      <td>Propriva</td>\n",
       "      <td>Female</td>\n",
       "      <td>21</td>\n",
       "      <td>26</td>\n",
       "    </tr>\n",
       "    <tr>\n",
       "      <th>137</th>\n",
       "      <td>g989</td>\n",
       "      <td>0</td>\n",
       "      <td>45.0</td>\n",
       "      <td>0</td>\n",
       "      <td>Propriva</td>\n",
       "      <td>Female</td>\n",
       "      <td>21</td>\n",
       "      <td>26</td>\n",
       "    </tr>\n",
       "  </tbody>\n",
       "</table>\n",
       "</div>"
      ]
     },
     "metadata": {},
     "execution_count": 3
    }
   ],
   "metadata": {}
  },
  {
   "cell_type": "code",
   "execution_count": 4,
   "source": [
    "#Create a clean DataFrame by dropping the duplicate mouse by its ID.\r\n",
    "for mouse in dupe_mice[\"Mouse ID\"]:\r\n",
    "    indexNames = mouse_data_full[mouse_data_full[\"Mouse ID\"] == mouse].index\r\n",
    "    mouse_data_full.drop(indexNames, inplace=True)"
   ],
   "outputs": [],
   "metadata": {}
  },
  {
   "cell_type": "code",
   "execution_count": 5,
   "source": [
    "#Checking the number of mice in the clean DataFrame.\r\n",
    "print(len(mouse_data_full))"
   ],
   "outputs": [
    {
     "output_type": "stream",
     "name": "stdout",
     "text": [
      "1880\n"
     ]
    }
   ],
   "metadata": {}
  },
  {
   "cell_type": "code",
   "execution_count": 6,
   "source": [
    "drug_df = mouse_data_full.groupby(\"Drug Regimen\")\r\n",
    "drug_names_df = drug_df.first()\r\n",
    "#print(drug_names_df)\r\n",
    "\r\n",
    "drug_df_Capomulin = drug_df.get_group(\"Capomulin\")[\"Tumor Volume (mm3)\"]\r\n",
    "capomulin_stats = [\"Capomulin\", drug_df_Capomulin.mean(), drug_df_Capomulin.median(), drug_df_Capomulin.var(), drug_df_Capomulin.std(), drug_df_Capomulin.sem()]\r\n",
    "\r\n",
    "drug_df_Ceftamin = drug_df.get_group(\"Ceftamin\")[\"Tumor Volume (mm3)\"]\r\n",
    "ceftamin_stats = [\"Ceftamin\", drug_df_Ceftamin.mean(), drug_df_Ceftamin.median(), drug_df_Ceftamin.var(), drug_df_Ceftamin.std(), drug_df_Ceftamin.sem()]\r\n",
    "\r\n",
    "drug_df_Infubinol = drug_df.get_group(\"Infubinol\")[\"Tumor Volume (mm3)\"]\r\n",
    "infubinol_stats = [\"Infubinol\", drug_df_Infubinol.mean(), drug_df_Infubinol.median(), drug_df_Infubinol.var(), drug_df_Infubinol.std(), drug_df_Infubinol.sem()]\r\n",
    "\r\n",
    "drug_df_Ketapril = drug_df.get_group(\"Ketapril\")[\"Tumor Volume (mm3)\"]\r\n",
    "ketapril_stats = [\"Ketapril\", drug_df_Ketapril.mean(), drug_df_Ketapril.median(), drug_df_Ketapril.var(), drug_df_Ketapril.std(), drug_df_Ketapril.sem()]\r\n",
    "\r\n",
    "drug_df_Naftisol = drug_df.get_group(\"Naftisol\")[\"Tumor Volume (mm3)\"]\r\n",
    "naftisol_stats = [\"Naftisol\", drug_df_Naftisol.mean(), drug_df_Naftisol.median(), drug_df_Naftisol.var(), drug_df_Naftisol.std(), drug_df_Naftisol.sem()]\r\n",
    "\r\n",
    "drug_df_Placebo = drug_df.get_group(\"Placebo\")[\"Tumor Volume (mm3)\"]\r\n",
    "placebo_stats = [\"Placebo\", drug_df_Placebo.mean(), drug_df_Placebo.median(), drug_df_Placebo.var(), drug_df_Placebo.std(), drug_df_Placebo.sem()]\r\n",
    "\r\n",
    "drug_df_Propriva = drug_df.get_group(\"Propriva\")[\"Tumor Volume (mm3)\"]\r\n",
    "propriva_stats = [\"Propriva\", drug_df_Propriva.mean(), drug_df_Propriva.median(), drug_df_Propriva.var(), drug_df_Propriva.std(), drug_df_Propriva.sem()]\r\n",
    "\r\n",
    "drug_df_Ramicane = drug_df.get_group(\"Ramicane\")[\"Tumor Volume (mm3)\"]\r\n",
    "ramicane_stats = [\"Ramicane\", drug_df_Ramicane.mean(), drug_df_Ramicane.median(), drug_df_Ramicane.var(), drug_df_Ramicane.std(), drug_df_Ramicane.sem()]\r\n",
    "\r\n",
    "drug_df_Stelasyn = drug_df.get_group(\"Stelasyn\")[\"Tumor Volume (mm3)\"]\r\n",
    "stelasyn_stats = [\"Stelasyn\", drug_df_Stelasyn.mean(), drug_df_Stelasyn.median(), drug_df_Stelasyn.var(), drug_df_Stelasyn.std(), drug_df_Stelasyn.sem()]\r\n",
    "\r\n",
    "drug_df_Zoniferol = drug_df.get_group(\"Zoniferol\")[\"Tumor Volume (mm3)\"]\r\n",
    "zoniferol_stats = [\"Zoniferol\", drug_df_Zoniferol.mean(), drug_df_Zoniferol.median(), drug_df_Zoniferol.var(), drug_df_Zoniferol.std(), drug_df_Zoniferol.sem()]\r\n",
    "\r\n",
    "\r\n",
    "stats_summary = pd.DataFrame([capomulin_stats, ceftamin_stats, infubinol_stats, ketapril_stats, naftisol_stats, placebo_stats, propriva_stats, ramicane_stats, stelasyn_stats, zoniferol_stats],\r\n",
    "                            columns = [\"Drug Regimen\", \"Mean\", \"Median\", \"Variance\", \"Standard Dev\", \"SEM\"])\r\n",
    "stats_summary"
   ],
   "outputs": [
    {
     "output_type": "execute_result",
     "data": {
      "text/plain": [
       "  Drug Regimen       Mean     Median   Variance  Standard Dev       SEM\n",
       "0    Capomulin  40.675741  41.557809  24.947764      4.994774  0.329346\n",
       "1     Ceftamin  52.591172  51.776157  39.290177      6.268188  0.469821\n",
       "2    Infubinol  52.884795  51.820584  43.128684      6.567243  0.492236\n",
       "3     Ketapril  55.235638  53.698743  68.553577      8.279709  0.603860\n",
       "4     Naftisol  54.331565  52.509285  66.173479      8.134708  0.596466\n",
       "5      Placebo  54.033581  52.288934  61.168083      7.821003  0.581331\n",
       "6     Propriva  52.320930  50.446266  43.852013      6.622085  0.544332\n",
       "7     Ramicane  40.216745  40.673236  23.486704      4.846308  0.320955\n",
       "8     Stelasyn  54.233149  52.431737  59.450562      7.710419  0.573111\n",
       "9    Zoniferol  53.236507  51.818479  48.533355      6.966589  0.516398"
      ],
      "text/html": [
       "<div>\n",
       "<style scoped>\n",
       "    .dataframe tbody tr th:only-of-type {\n",
       "        vertical-align: middle;\n",
       "    }\n",
       "\n",
       "    .dataframe tbody tr th {\n",
       "        vertical-align: top;\n",
       "    }\n",
       "\n",
       "    .dataframe thead th {\n",
       "        text-align: right;\n",
       "    }\n",
       "</style>\n",
       "<table border=\"1\" class=\"dataframe\">\n",
       "  <thead>\n",
       "    <tr style=\"text-align: right;\">\n",
       "      <th></th>\n",
       "      <th>Drug Regimen</th>\n",
       "      <th>Mean</th>\n",
       "      <th>Median</th>\n",
       "      <th>Variance</th>\n",
       "      <th>Standard Dev</th>\n",
       "      <th>SEM</th>\n",
       "    </tr>\n",
       "  </thead>\n",
       "  <tbody>\n",
       "    <tr>\n",
       "      <th>0</th>\n",
       "      <td>Capomulin</td>\n",
       "      <td>40.675741</td>\n",
       "      <td>41.557809</td>\n",
       "      <td>24.947764</td>\n",
       "      <td>4.994774</td>\n",
       "      <td>0.329346</td>\n",
       "    </tr>\n",
       "    <tr>\n",
       "      <th>1</th>\n",
       "      <td>Ceftamin</td>\n",
       "      <td>52.591172</td>\n",
       "      <td>51.776157</td>\n",
       "      <td>39.290177</td>\n",
       "      <td>6.268188</td>\n",
       "      <td>0.469821</td>\n",
       "    </tr>\n",
       "    <tr>\n",
       "      <th>2</th>\n",
       "      <td>Infubinol</td>\n",
       "      <td>52.884795</td>\n",
       "      <td>51.820584</td>\n",
       "      <td>43.128684</td>\n",
       "      <td>6.567243</td>\n",
       "      <td>0.492236</td>\n",
       "    </tr>\n",
       "    <tr>\n",
       "      <th>3</th>\n",
       "      <td>Ketapril</td>\n",
       "      <td>55.235638</td>\n",
       "      <td>53.698743</td>\n",
       "      <td>68.553577</td>\n",
       "      <td>8.279709</td>\n",
       "      <td>0.603860</td>\n",
       "    </tr>\n",
       "    <tr>\n",
       "      <th>4</th>\n",
       "      <td>Naftisol</td>\n",
       "      <td>54.331565</td>\n",
       "      <td>52.509285</td>\n",
       "      <td>66.173479</td>\n",
       "      <td>8.134708</td>\n",
       "      <td>0.596466</td>\n",
       "    </tr>\n",
       "    <tr>\n",
       "      <th>5</th>\n",
       "      <td>Placebo</td>\n",
       "      <td>54.033581</td>\n",
       "      <td>52.288934</td>\n",
       "      <td>61.168083</td>\n",
       "      <td>7.821003</td>\n",
       "      <td>0.581331</td>\n",
       "    </tr>\n",
       "    <tr>\n",
       "      <th>6</th>\n",
       "      <td>Propriva</td>\n",
       "      <td>52.320930</td>\n",
       "      <td>50.446266</td>\n",
       "      <td>43.852013</td>\n",
       "      <td>6.622085</td>\n",
       "      <td>0.544332</td>\n",
       "    </tr>\n",
       "    <tr>\n",
       "      <th>7</th>\n",
       "      <td>Ramicane</td>\n",
       "      <td>40.216745</td>\n",
       "      <td>40.673236</td>\n",
       "      <td>23.486704</td>\n",
       "      <td>4.846308</td>\n",
       "      <td>0.320955</td>\n",
       "    </tr>\n",
       "    <tr>\n",
       "      <th>8</th>\n",
       "      <td>Stelasyn</td>\n",
       "      <td>54.233149</td>\n",
       "      <td>52.431737</td>\n",
       "      <td>59.450562</td>\n",
       "      <td>7.710419</td>\n",
       "      <td>0.573111</td>\n",
       "    </tr>\n",
       "    <tr>\n",
       "      <th>9</th>\n",
       "      <td>Zoniferol</td>\n",
       "      <td>53.236507</td>\n",
       "      <td>51.818479</td>\n",
       "      <td>48.533355</td>\n",
       "      <td>6.966589</td>\n",
       "      <td>0.516398</td>\n",
       "    </tr>\n",
       "  </tbody>\n",
       "</table>\n",
       "</div>"
      ]
     },
     "metadata": {},
     "execution_count": 6
    }
   ],
   "metadata": {}
  },
  {
   "cell_type": "code",
   "execution_count": 7,
   "source": [
    "drug_count = drug_df[\"Mouse ID\"].count()\r\n",
    "drug_count.plot.bar()"
   ],
   "outputs": [
    {
     "output_type": "execute_result",
     "data": {
      "text/plain": [
       "<matplotlib.axes._subplots.AxesSubplot at 0x1feb7c9fe48>"
      ]
     },
     "metadata": {},
     "execution_count": 7
    },
    {
     "output_type": "display_data",
     "data": {
      "text/plain": [
       "<Figure size 432x288 with 1 Axes>"
      ],
      "image/png": "[encoded data removed]"
     },
     "metadata": {
      "needs_background": "light"
     }
    }
   ],
   "metadata": {}
  },
  {
   "cell_type": "code",
   "execution_count": 8,
   "source": [
    "drug_names = drug_count.keys()\r\n",
    "\r\n",
    "plt.xticks(rotation = \"vertical\")\r\n",
    "plt.bar(drug_names, drug_count, width = .5)"
   ],
   "outputs": [
    {
     "output_type": "execute_result",
     "data": {
      "text/plain": [
       "<BarContainer object of 10 artists>"
      ]
     },
     "metadata": {},
     "execution_count": 8
    },
    {
     "output_type": "display_data",
     "data": {
      "text/plain": [
       "<Figure size 432x288 with 1 Axes>"
      ],
      "image/png": "[encoded data removed]"
     },
     "metadata": {
      "needs_background": "light"
     }
    }
   ],
   "metadata": {}
  },
  {
   "cell_type": "code",
   "execution_count": 9,
   "source": [
    "sex_count = mouse_data_full.groupby(\"Sex\").agg({\"Sex\":\"count\"})\r\n",
    "sex_count\r\n",
    "\r\n",
    "sex_count.plot.pie(subplots=True)"
   ],
   "outputs": [
    {
     "output_type": "execute_result",
     "data": {
      "text/plain": [
       "array([<matplotlib.axes._subplots.AxesSubplot object at 0x000001FEB8062D68>],\n",
       "      dtype=object)"
      ]
     },
     "metadata": {},
     "execution_count": 9
    },
    {
     "output_type": "display_data",
     "data": {
      "text/plain": [
       "<Figure size 432x288 with 1 Axes>"
      ],
      "image/png": "[encoded data removed]"
     },
     "metadata": {}
    }
   ],
   "metadata": {}
  },
  {
   "cell_type": "code",
   "execution_count": 10,
   "source": [
    "labels = sex_count.index\r\n",
    "plt.pie(sex_count, labels = labels)\r\n",
    "plt.title(\"Sex\")\r\n",
    "plt.legend(labels, loc=\"best\")"
   ],
   "outputs": [
    {
     "output_type": "stream",
     "name": "stderr",
     "text": [
      "C:\\Users\\JohnJohn\\anaconda3\\envs\\PythonData\\lib\\site-packages\\ipykernel_launcher.py:2: MatplotlibDeprecationWarning: Non-1D inputs to pie() are currently squeeze()d, but this behavior is deprecated since 3.1 and will be removed in 3.3; pass a 1D array instead.\n",
      "  \n"
     ]
    },
    {
     "output_type": "execute_result",
     "data": {
      "text/plain": [
       "<matplotlib.legend.Legend at 0x1feb80d24e0>"
      ]
     },
     "metadata": {},
     "execution_count": 10
    },
    {
     "output_type": "display_data",
     "data": {
      "text/plain": [
       "<Figure size 432x288 with 1 Axes>"
      ],
      "image/png": "[encoded data removed]"
     },
     "metadata": {}
    }
   ],
   "metadata": {}
  },
  {
   "cell_type": "code",
   "execution_count": 11,
   "source": [
    "# find tumor volume at final timepoint for all drug regimens\r\n",
    "drug_names_final = drug_df.last()\r\n",
    "drug_names_final\r\n",
    "\r\n",
    "# keep final tumor volumes for requested drug regimens, drop all other data\r\n",
    "top_4_final = drug_names_final.drop(index=['Ketapril', 'Naftisol', 'Placebo', 'Propriva', 'Stelasyn', 'Zoniferol'], columns=['Mouse ID', 'Metastatic Sites', 'Sex', 'Age_months', 'Weight (g)'])\r\n",
    "top_4_final"
   ],
   "outputs": [
    {
     "output_type": "execute_result",
     "data": {
      "text/plain": [
       "              Timepoint  Tumor Volume (mm3)\n",
       "Drug Regimen                               \n",
       "Capomulin            45           31.023923\n",
       "Ceftamin             45           61.433892\n",
       "Infubinol            45           60.918767\n",
       "Ramicane             45           33.562402"
      ],
      "text/html": [
       "<div>\n",
       "<style scoped>\n",
       "    .dataframe tbody tr th:only-of-type {\n",
       "        vertical-align: middle;\n",
       "    }\n",
       "\n",
       "    .dataframe tbody tr th {\n",
       "        vertical-align: top;\n",
       "    }\n",
       "\n",
       "    .dataframe thead th {\n",
       "        text-align: right;\n",
       "    }\n",
       "</style>\n",
       "<table border=\"1\" class=\"dataframe\">\n",
       "  <thead>\n",
       "    <tr style=\"text-align: right;\">\n",
       "      <th></th>\n",
       "      <th>Timepoint</th>\n",
       "      <th>Tumor Volume (mm3)</th>\n",
       "    </tr>\n",
       "    <tr>\n",
       "      <th>Drug Regimen</th>\n",
       "      <th></th>\n",
       "      <th></th>\n",
       "    </tr>\n",
       "  </thead>\n",
       "  <tbody>\n",
       "    <tr>\n",
       "      <th>Capomulin</th>\n",
       "      <td>45</td>\n",
       "      <td>31.023923</td>\n",
       "    </tr>\n",
       "    <tr>\n",
       "      <th>Ceftamin</th>\n",
       "      <td>45</td>\n",
       "      <td>61.433892</td>\n",
       "    </tr>\n",
       "    <tr>\n",
       "      <th>Infubinol</th>\n",
       "      <td>45</td>\n",
       "      <td>60.918767</td>\n",
       "    </tr>\n",
       "    <tr>\n",
       "      <th>Ramicane</th>\n",
       "      <td>45</td>\n",
       "      <td>33.562402</td>\n",
       "    </tr>\n",
       "  </tbody>\n",
       "</table>\n",
       "</div>"
      ]
     },
     "metadata": {},
     "execution_count": 11
    }
   ],
   "metadata": {}
  },
  {
   "cell_type": "code",
   "execution_count": 15,
   "source": [
    "# calculate quartiles and IQR of each of the 4 requested drug regimens\r\n",
    "\r\n",
    "Capomulin_quartiles = drug_df_Capomulin.quantile([0.25,0.5,0.75])\r\n",
    "Cap_lowerq = Capomulin_quartiles[0.25]\r\n",
    "Cap_upperq = Capomulin_quartiles[0.75]\r\n",
    "Capomulin_iqr = Cap_upperq - Cap_lowerq\r\n",
    "Cap_lowerb = (Cap_lowerq - (1.5 * Capomulin_iqr))\r\n",
    "Cap_upperb = (Cap_upperq + (1.5 * Capomulin_iqr))\r\n",
    "Cap_summary = [\"Capomulin\", Cap_lowerq, Cap_upperq, Capomulin_iqr, Cap_lowerb, Cap_upperb]\r\n",
    "\r\n",
    "Ceftamin_quartiles = drug_df_Ceftamin.quantile([0.25,0.5,0.75])\r\n",
    "Cef_lowerq = Ceftamin_quartiles[0.25]\r\n",
    "Cef_upperq = Ceftamin_quartiles[0.75]\r\n",
    "Ceftamin_iqr = Cef_upperq - Cef_lowerq\r\n",
    "Cef_lowerb = (Cef_lowerq - (1.5 * Ceftamin_iqr))\r\n",
    "Cef_upperb = (Cef_upperq + (1.5 * Ceftamin_iqr))\r\n",
    "Cef_summary = [\"Ceftamin\", Cef_lowerq, Cef_upperq, Ceftamin_iqr, Cef_lowerb, Cef_upperb]\r\n",
    "\r\n",
    "Infubinol_quartiles = drug_df_Infubinol.quantile([0.25,0.5,0.75])\r\n",
    "Inf_lowerq = Infubinol_quartiles[0.25]\r\n",
    "Inf_upperq = Infubinol_quartiles[0.75]\r\n",
    "Infubinol_iqr = Inf_upperq - Inf_lowerq\r\n",
    "Inf_lowerb = (Inf_lowerq - (1.5 * Infubinol_iqr))\r\n",
    "Inf_upperb = (Inf_upperq + (1.5 * Infubinol_iqr))\r\n",
    "Inf_summary = [\"Infubinol\", Inf_lowerq, Inf_upperq, Infubinol_iqr, Inf_lowerb, Inf_upperb]\r\n",
    "\r\n",
    "Ramicane_quartiles = drug_df_Ramicane.quantile([0.25,0.5,0.75])\r\n",
    "Ram_lowerb = Ramicane_quartiles[0.25]\r\n",
    "Ram_upperb = Ramicane_quartiles[0.75]\r\n",
    "Ramicane_iqr = Ram_upperq - Ram_lowerq\r\n",
    "Ram_lowerb = (Ram_lowerq - (1.5 * Ramicane_iqr))\r\n",
    "Ram_upperb = (Ram_upperq + (1.5 * Ramicane_iqr))\r\n",
    "Ram_summary = [\"Ramicane\", Ram_lowerq, Ram_upperq, Ramicane_iqr, Ram_lowerb, Ram_upperb]\r\n",
    "\r\n",
    "top_4_quartile_summary = pd.DataFrame([Cap_summary, Cef_summary, Inf_summary, Ram_summary],\r\n",
    "                            columns = [\"Drug Regimen\", \"Lower Quartile\", \"Upper Quartile\", \"IQR\", \"Lower Bound\", \"Upper Bound\"])\r\n",
    "top_4_quartile_summary"
   ],
   "outputs": [
    {
     "output_type": "execute_result",
     "data": {
      "text/plain": [
       "  Drug Regimen  Lower Quartile  Upper Quartile        IQR  Lower Bound  \\\n",
       "0    Capomulin       37.685933       45.000000   7.314067    26.714832   \n",
       "1     Ceftamin       47.208427       56.801438   9.593010    32.818911   \n",
       "2    Infubinol       47.312353       57.314444  10.002091    32.309217   \n",
       "3     Ramicane       36.674635       45.000000   8.325365    24.186586   \n",
       "\n",
       "   Upper Bound  \n",
       "0    55.971101  \n",
       "1    71.190953  \n",
       "2    72.317580  \n",
       "3    57.488048  "
      ],
      "text/html": [
       "<div>\n",
       "<style scoped>\n",
       "    .dataframe tbody tr th:only-of-type {\n",
       "        vertical-align: middle;\n",
       "    }\n",
       "\n",
       "    .dataframe tbody tr th {\n",
       "        vertical-align: top;\n",
       "    }\n",
       "\n",
       "    .dataframe thead th {\n",
       "        text-align: right;\n",
       "    }\n",
       "</style>\n",
       "<table border=\"1\" class=\"dataframe\">\n",
       "  <thead>\n",
       "    <tr style=\"text-align: right;\">\n",
       "      <th></th>\n",
       "      <th>Drug Regimen</th>\n",
       "      <th>Lower Quartile</th>\n",
       "      <th>Upper Quartile</th>\n",
       "      <th>IQR</th>\n",
       "      <th>Lower Bound</th>\n",
       "      <th>Upper Bound</th>\n",
       "    </tr>\n",
       "  </thead>\n",
       "  <tbody>\n",
       "    <tr>\n",
       "      <th>0</th>\n",
       "      <td>Capomulin</td>\n",
       "      <td>37.685933</td>\n",
       "      <td>45.000000</td>\n",
       "      <td>7.314067</td>\n",
       "      <td>26.714832</td>\n",
       "      <td>55.971101</td>\n",
       "    </tr>\n",
       "    <tr>\n",
       "      <th>1</th>\n",
       "      <td>Ceftamin</td>\n",
       "      <td>47.208427</td>\n",
       "      <td>56.801438</td>\n",
       "      <td>9.593010</td>\n",
       "      <td>32.818911</td>\n",
       "      <td>71.190953</td>\n",
       "    </tr>\n",
       "    <tr>\n",
       "      <th>2</th>\n",
       "      <td>Infubinol</td>\n",
       "      <td>47.312353</td>\n",
       "      <td>57.314444</td>\n",
       "      <td>10.002091</td>\n",
       "      <td>32.309217</td>\n",
       "      <td>72.317580</td>\n",
       "    </tr>\n",
       "    <tr>\n",
       "      <th>3</th>\n",
       "      <td>Ramicane</td>\n",
       "      <td>36.674635</td>\n",
       "      <td>45.000000</td>\n",
       "      <td>8.325365</td>\n",
       "      <td>24.186586</td>\n",
       "      <td>57.488048</td>\n",
       "    </tr>\n",
       "  </tbody>\n",
       "</table>\n",
       "</div>"
      ]
     },
     "metadata": {},
     "execution_count": 15
    }
   ],
   "metadata": {}
  },
  {
   "cell_type": "code",
   "execution_count": 44,
   "source": [
    "# now find tumor volume at initial timepoint for all drug regimens\r\n",
    "drug_names_initial = drug_df.first()\r\n",
    "drug_names_initial\r\n",
    "\r\n",
    "# and keep initial tumor volumes for requested drug regimens, drop all other data\r\n",
    "top_4_initial = drug_names_initial.drop(index=['Ketapril', 'Naftisol', 'Placebo', 'Propriva', 'Stelasyn', 'Zoniferol'], columns=['Mouse ID', 'Metastatic Sites', 'Sex', 'Age_months', 'Weight (g)'])\r\n",
    "# show to reference with lower bounds\r\n",
    "top_4_initial"
   ],
   "outputs": [
    {
     "output_type": "execute_result",
     "data": {
      "text/plain": [
       "              Timepoint  Tumor Volume (mm3)\n",
       "Drug Regimen                               \n",
       "Capomulin             0                45.0\n",
       "Ceftamin              0                45.0\n",
       "Infubinol             0                45.0\n",
       "Ramicane              0                45.0"
      ],
      "text/html": [
       "<div>\n",
       "<style scoped>\n",
       "    .dataframe tbody tr th:only-of-type {\n",
       "        vertical-align: middle;\n",
       "    }\n",
       "\n",
       "    .dataframe tbody tr th {\n",
       "        vertical-align: top;\n",
       "    }\n",
       "\n",
       "    .dataframe thead th {\n",
       "        text-align: right;\n",
       "    }\n",
       "</style>\n",
       "<table border=\"1\" class=\"dataframe\">\n",
       "  <thead>\n",
       "    <tr style=\"text-align: right;\">\n",
       "      <th></th>\n",
       "      <th>Timepoint</th>\n",
       "      <th>Tumor Volume (mm3)</th>\n",
       "    </tr>\n",
       "    <tr>\n",
       "      <th>Drug Regimen</th>\n",
       "      <th></th>\n",
       "      <th></th>\n",
       "    </tr>\n",
       "  </thead>\n",
       "  <tbody>\n",
       "    <tr>\n",
       "      <th>Capomulin</th>\n",
       "      <td>0</td>\n",
       "      <td>45.0</td>\n",
       "    </tr>\n",
       "    <tr>\n",
       "      <th>Ceftamin</th>\n",
       "      <td>0</td>\n",
       "      <td>45.0</td>\n",
       "    </tr>\n",
       "    <tr>\n",
       "      <th>Infubinol</th>\n",
       "      <td>0</td>\n",
       "      <td>45.0</td>\n",
       "    </tr>\n",
       "    <tr>\n",
       "      <th>Ramicane</th>\n",
       "      <td>0</td>\n",
       "      <td>45.0</td>\n",
       "    </tr>\n",
       "  </tbody>\n",
       "</table>\n",
       "</div>"
      ]
     },
     "metadata": {},
     "execution_count": 44
    }
   ],
   "metadata": {}
  },
  {
   "cell_type": "code",
   "execution_count": 52,
   "source": [
    "# quick for loops to check all possible tumor volumes against each drug's respective lower and upper bounds.\r\n",
    "Cap_outliers = []\r\n",
    "Cef_outliers = []\r\n",
    "Inf_outliers = []\r\n",
    "Ram_outliers = []\r\n",
    "\r\n",
    "for volume in drug_df_Capomulin:\r\n",
    "    if volume < Cap_lowerb or volume > Cap_upperb:\r\n",
    "        Cap_outliers.append(volume)\r\n",
    "\r\n",
    "for volume in drug_df_Ceftamin:\r\n",
    "    if volume < Cef_lowerb or volume > Cef_upperb:\r\n",
    "        Cef_outliers.append(volume)\r\n",
    "\r\n",
    "for volume in drug_df_Infubinol:\r\n",
    "    if volume < Inf_lowerb or volume > Inf_upperb:\r\n",
    "        Inf_outliers.append(volume)\r\n",
    "\r\n",
    "for volume in drug_df_Ramicane:\r\n",
    "    if volume < Ram_lowerb or volume > Ram_upperb:\r\n",
    "        Ram_outliers.append(volume)\r\n",
    "\r\n",
    "print(Cap_outliers)\r\n",
    "print(Cef_outliers)\r\n",
    "print(Inf_outliers)\r\n",
    "print(Ram_outliers)"
   ],
   "outputs": [
    {
     "output_type": "stream",
     "name": "stdout",
     "text": [
      "[25.47214326, 23.34359787]\n",
      "[]\n",
      "[]\n",
      "[22.05012627]\n"
     ]
    }
   ],
   "metadata": {}
  },
  {
   "cell_type": "markdown",
   "source": [
    "## By checking all Tumor Volumes for each of the four drugs against their respective Upper and Lower Bounds, we can see there are potential outliers for Capomulin and Ramicane."
   ],
   "metadata": {}
  },
  {
   "cell_type": "code",
   "execution_count": 53,
   "source": [
    "green_diamond = dict(markerfacecolor='g', marker='d')\r\n",
    "fig1, ax1 = plt.subplots()\r\n",
    "top_4_data = [drug_df_Capomulin, drug_df_Ceftamin, drug_df_Infubinol, drug_df_Ramicane]\r\n",
    "ax1.set_xticklabels([\"Capomulin\", \"Ceftamin\", \"Infubinol\", \"Ramicane\"])\r\n",
    "ax1.boxplot(top_4_data, flierprops = green_diamond)\r\n",
    "\r\n",
    "plt.show()"
   ],
   "outputs": [
    {
     "output_type": "display_data",
     "data": {
      "text/plain": [
       "<Figure size 432x288 with 1 Axes>"
      ],
      "image/png": "[encoded data removed]"
     },
     "metadata": {
      "needs_background": "light"
     }
    }
   ],
   "metadata": {}
  },
  {
   "cell_type": "markdown",
   "source": [
    "## Our Boxplots visually confirm our findings with regard to outliers."
   ],
   "metadata": {}
  },
  {
   "cell_type": "code",
   "execution_count": 83,
   "source": [
    "mouse_id_df = mouse_data_full.groupby(\"Mouse ID\")\r\n",
    "Cap_mouse_df = mouse_id_df.get_group(\"b128\")\r\n",
    "Cap_mouse_df \r\n",
    "\r\n",
    "Cap_mouse_x = Cap_mouse_df[\"Timepoint\"]\r\n",
    "Cap_mouse_y = Cap_mouse_df[\"Tumor Volume (mm3)\"]\r\n",
    "\r\n",
    "plt.title(\"Capomulin Mouse B128: Tumor Volume over Time\")\r\n",
    "plt.xlabel(\"Timepoint\")\r\n",
    "plt.ylabel(\"Tumor Volume (mm3)\")\r\n",
    "plt.plot(Cap_mouse_x, Cap_mouse_y, marker = 'o', markerfacecolor = 'g')"
   ],
   "outputs": [
    {
     "output_type": "execute_result",
     "data": {
      "text/plain": [
       "[<matplotlib.lines.Line2D at 0x1feb7f77e10>]"
      ]
     },
     "metadata": {},
     "execution_count": 83
    },
    {
     "output_type": "display_data",
     "data": {
      "text/plain": [
       "<Figure size 432x288 with 1 Axes>"
      ],
      "image/png": "[encoded data removed]"
     },
     "metadata": {
      "needs_background": "light"
     }
    }
   ],
   "metadata": {}
  },
  {
   "cell_type": "code",
   "execution_count": 87,
   "source": [
    "Capomulin_df = drug_df.get_group(\"Capomulin\")\r\n",
    "Capomulin_df\r\n",
    "\r\n",
    "Cap_scatter_x = Capomulin_df[\"Weight (g)\"]\r\n",
    "Cap_scatter_y = Capomulin_df[\"Tumor Volume (mm3)\"]\r\n",
    "\r\n",
    "plt.title(\"Capomulin: Tumor Volume for each Weight\")\r\n",
    "plt.xlabel(\"Mouse Weight\")\r\n",
    "plt.ylabel(\"Tumor Volume (mm3)\")\r\n",
    "plt.scatter(Cap_scatter_x, Cap_scatter_y, marker = 'd', edgecolors = 'b')"
   ],
   "outputs": [
    {
     "output_type": "execute_result",
     "data": {
      "text/plain": [
       "<matplotlib.collections.PathCollection at 0x1feba27f9b0>"
      ]
     },
     "metadata": {},
     "execution_count": 87
    },
    {
     "output_type": "display_data",
     "data": {
      "text/plain": [
       "<Figure size 432x288 with 1 Axes>"
      ],
      "image/png": "[encoded data removed]"
     },
     "metadata": {
      "needs_background": "light"
     }
    }
   ],
   "metadata": {}
  }
 ],
 "metadata": {
  "kernelspec": {
   "display_name": "PythonData",
   "language": "python",
   "name": "pythondata"
  },
  "language_info": {
   "name": "python",
   "version": "3.6.10",
   "mimetype": "text/x-python",
   "codemirror_mode": {
    "name": "ipython",
    "version": 3
   },
   "pygments_lexer": "ipython3",
   "nbconvert_exporter": "python",
   "file_extension": ".py"
  }
 },
 "nbformat": 4,
 "nbformat_minor": 4
}